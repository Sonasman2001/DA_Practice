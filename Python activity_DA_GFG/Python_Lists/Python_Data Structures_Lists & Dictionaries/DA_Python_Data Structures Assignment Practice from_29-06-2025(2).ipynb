{
  "cells": [
    {
      "cell_type": "markdown",
      "metadata": {
        "id": "OzvossTEf5ce"
      },
      "source": [
        "# 1. Lists"
      ]
    },
    {
      "cell_type": "code",
      "execution_count": null,
      "metadata": {
        "id": "W40gMVTAfzDQ"
      },
      "outputs": [],
      "source": [
        "user_name = 'Akash'\n",
        "phone_no = 92123874128\n",
        "address = 'delhi'\n",
        "batch = 'd-10'\n",
        "email = 'akash@gmail.com'\n",
        "gender = ''\n",
        "dob = ''\n",
        "education_background = ''\n",
        "isWorking = True"
      ]
    },
    {
      "cell_type": "code",
      "execution_count": null,
      "metadata": {
        "id": "TijNISXfgN8V"
      },
      "outputs": [],
      "source": [
        "user_1 = ['Akash',92123874128,'delhi','d-10']"
      ]
    },
    {
      "cell_type": "code",
      "execution_count": null,
      "metadata": {
        "id": "IeNf7y4xgOgh"
      },
      "outputs": [],
      "source": [
        "user_1.append(12)"
      ]
    },
    {
      "cell_type": "code",
      "execution_count": null,
      "metadata": {
        "colab": {
          "base_uri": "https://localhost:8080/"
        },
        "id": "0SWFVDA1gPBA",
        "outputId": "2e4e0920-321a-4f85-910e-3a9f38e96908"
      },
      "outputs": [
        {
          "data": {
            "text/plain": [
              "['Akash', 92123874128, 'delhi', 'd-10']"
            ]
          },
          "execution_count": 8,
          "metadata": {},
          "output_type": "execute_result"
        }
      ],
      "source": [
        "user_1"
      ]
    },
    {
      "cell_type": "code",
      "execution_count": null,
      "metadata": {
        "colab": {
          "base_uri": "https://localhost:8080/"
        },
        "id": "frIcLL6wgPgW",
        "outputId": "0e62a461-754a-471b-d3e0-020e73e9a06d"
      },
      "outputs": [
        {
          "data": {
            "text/plain": [
              "['Akash', 92123874128, 'delhi', 'd-10', 12]"
            ]
          },
          "execution_count": 10,
          "metadata": {},
          "output_type": "execute_result"
        }
      ],
      "source": [
        "user_1"
      ]
    },
    {
      "cell_type": "code",
      "execution_count": null,
      "metadata": {
        "id": "R1h8lsYFgYrj"
      },
      "outputs": [],
      "source": [
        "user_1[0] = 'Manish'"
      ]
    },
    {
      "cell_type": "code",
      "execution_count": null,
      "metadata": {
        "colab": {
          "base_uri": "https://localhost:8080/"
        },
        "id": "nVL-N1g8gZOq",
        "outputId": "0ee8bb75-4090-412a-84d9-1489134d7157"
      },
      "outputs": [
        {
          "data": {
            "text/plain": [
              "['Manish', 92123874128, 'delhi', 'd-10', 12]"
            ]
          },
          "execution_count": 12,
          "metadata": {},
          "output_type": "execute_result"
        }
      ],
      "source": [
        "user_1"
      ]
    },
    {
      "cell_type": "markdown",
      "metadata": {
        "id": "um-bbFWBhQE_"
      },
      "source": [
        "# 1.2) Practice List\n",
        "\n",
        "1.2.1) Append all the even numbers between 0-100 into the list."
      ]
    },
    {
      "cell_type": "code",
      "execution_count": null,
      "metadata": {
        "colab": {
          "base_uri": "https://localhost:8080/"
        },
        "id": "FD3wr2gKgZrl",
        "outputId": "1b886b45-5154-4008-c0f8-6da953a05147"
      },
      "outputs": [
        {
          "name": "stdout",
          "output_type": "stream",
          "text": [
            "[2, 4, 6, 8, 10, 12, 14, 16, 18, 20, 22, 24, 26, 28, 30, 32, 34, 36, 38, 40, 42, 44, 46, 48, 50, 52, 54, 56, 58, 60, 62, 64, 66, 68, 70, 72, 74, 76, 78, 80, 82, 84, 86, 88, 90, 92, 94, 96, 98]\n"
          ]
        }
      ],
      "source": [
        "lst = []\n",
        "\n",
        "for i in range(2,100,2):\n",
        "  lst.append(i)\n",
        "\n",
        "print(lst)"
      ]
    },
    {
      "cell_type": "markdown",
      "metadata": {
        "id": "7cKjtYAghpNF"
      },
      "source": [
        "1.2.2) Sum of all the elements of a list."
      ]
    },
    {
      "cell_type": "code",
      "execution_count": null,
      "metadata": {
        "colab": {
          "base_uri": "https://localhost:8080/"
        },
        "id": "pwI_iiaDgaMD",
        "outputId": "31c30b94-8956-4fbe-e7cf-9e20577b8418"
      },
      "outputs": [
        {
          "name": "stdout",
          "output_type": "stream",
          "text": [
            "2450\n"
          ]
        }
      ],
      "source": [
        "s = 0\n",
        "\n",
        "for i in range(len(lst)):\n",
        "  s = s + lst[i]\n",
        "\n",
        "print(s)"
      ]
    },
    {
      "cell_type": "markdown",
      "metadata": {
        "id": "p2cK3Rp-h1GO"
      },
      "source": [
        "1.2.3) Sum of all the even place elements of a list."
      ]
    },
    {
      "cell_type": "code",
      "execution_count": null,
      "metadata": {
        "colab": {
          "base_uri": "https://localhost:8080/"
        },
        "id": "7eM3dUQrgarG",
        "outputId": "87086724-612a-4469-cdce-8a02c9150bef"
      },
      "outputs": [
        {
          "name": "stdout",
          "output_type": "stream",
          "text": [
            "1250\n"
          ]
        }
      ],
      "source": [
        "sum_even = 0\n",
        "\n",
        "for i in range(len(lst)):\n",
        "  if i%2 == 0:\n",
        "    sum_even = sum_even + lst[i]\n",
        "\n",
        "print(sum_even)"
      ]
    },
    {
      "cell_type": "markdown",
      "metadata": {
        "id": "WIVnXd39iHYO"
      },
      "source": [
        "1.2.4) Sum of all the odd place elements of a list."
      ]
    },
    {
      "cell_type": "code",
      "execution_count": null,
      "metadata": {
        "colab": {
          "base_uri": "https://localhost:8080/"
        },
        "id": "ITc11LKqgbLV",
        "outputId": "b5cf2f34-9d65-47db-8a20-99523bd47134"
      },
      "outputs": [
        {
          "name": "stdout",
          "output_type": "stream",
          "text": [
            "1200\n"
          ]
        }
      ],
      "source": [
        "sum_odd = 0\n",
        "\n",
        "for i in range(len(lst)):\n",
        "  if i%2 != 0:\n",
        "    sum_odd = sum_odd + lst[i]\n",
        "\n",
        "print(sum_odd)"
      ]
    },
    {
      "cell_type": "markdown",
      "metadata": {
        "id": "1lyhYYkfiXJs"
      },
      "source": [
        "1.2.5) Difference between even and off place element sum of a list."
      ]
    },
    {
      "cell_type": "code",
      "execution_count": null,
      "metadata": {
        "colab": {
          "base_uri": "https://localhost:8080/"
        },
        "id": "VysB-8JNgb0I",
        "outputId": "5b1b20d4-c896-4c86-f40b-6b01361ed19a"
      },
      "outputs": [
        {
          "name": "stdout",
          "output_type": "stream",
          "text": [
            "50\n"
          ]
        }
      ],
      "source": [
        "print(sum_even - sum_odd)"
      ]
    },
    {
      "cell_type": "code",
      "execution_count": null,
      "metadata": {
        "colab": {
          "base_uri": "https://localhost:8080/"
        },
        "id": "0EAeDyZliwbX",
        "outputId": "07d20e22-d19c-4b24-c666-fdb8ffa0848d"
      },
      "outputs": [
        {
          "name": "stdout",
          "output_type": "stream",
          "text": [
            "enter a number : 6\n",
            "21\n"
          ]
        }
      ],
      "source": [
        "n = int(input('enter a number : '))\n",
        "\n",
        "# 5 ,100, 12300, 1287782231\n",
        "\n",
        "s = 0\n",
        "for i in range(n+1):\n",
        "  s += i\n",
        "print(s)"
      ]
    },
    {
      "cell_type": "code",
      "execution_count": null,
      "metadata": {
        "colab": {
          "base_uri": "https://localhost:8080/",
          "height": 106
        },
        "id": "_VFENw3niw9O",
        "outputId": "cd7abdba-60fa-4382-ccbd-3b434e216446"
      },
      "outputs": [
        {
          "ename": "SyntaxError",
          "evalue": "cannot assign to literal here. Maybe you meant '==' instead of '='? (ipython-input-19-435460157.py, line 1)",
          "output_type": "error",
          "traceback": [
            "\u001b[0;36m  File \u001b[0;32m\"/tmp/ipython-input-19-435460157.py\"\u001b[0;36m, line \u001b[0;32m1\u001b[0m\n\u001b[0;31m    1 = 1\u001b[0m\n\u001b[0m    ^\u001b[0m\n\u001b[0;31mSyntaxError\u001b[0m\u001b[0;31m:\u001b[0m cannot assign to literal here. Maybe you meant '==' instead of '='?\n"
          ]
        }
      ],
      "source": [
        "1 = 1\n",
        "2 = 3\n",
        "3 = 6 (3*2)\n",
        "4 = 10 (4*2.5)\n",
        "5 = 15 (5*3)\n",
        "6 = 21 (6*3.5)\n",
        "7 = 28 (7*4)\n",
        "8 = 36 (8*4.5)\n",
        "\n",
        "3 = 6 (3*2)\n",
        "5 = 15 (5*3)\n",
        "7 = 28 (7*4)"
      ]
    },
    {
      "cell_type": "code",
      "execution_count": null,
      "metadata": {
        "colab": {
          "base_uri": "https://localhost:8080/"
        },
        "id": "7SGZW-MSixv5",
        "outputId": "ba64c6ca-2f0c-4304-9257-a1c8499341bd"
      },
      "outputs": [
        {
          "name": "stdout",
          "output_type": "stream",
          "text": [
            "36.0\n"
          ]
        }
      ],
      "source": [
        "n = 8\n",
        "\n",
        "print(n * ((n//2) + .5))"
      ]
    },
    {
      "cell_type": "code",
      "execution_count": null,
      "metadata": {
        "colab": {
          "base_uri": "https://localhost:8080/"
        },
        "id": "LEQZpgBoiyPb",
        "outputId": "ca56f5b9-a9df-4417-d7b6-61e6766c6f1f"
      },
      "outputs": [
        {
          "name": "stdout",
          "output_type": "stream",
          "text": [
            "353735486253483854526798828972561\n"
          ]
        }
      ],
      "source": [
        "n = 26598326498239841\n",
        "\n",
        "print(n * ((n//2) + 1))"
      ]
    },
    {
      "cell_type": "code",
      "execution_count": null,
      "metadata": {
        "colab": {
          "base_uri": "https://localhost:8080/"
        },
        "id": "ZHC1xRjOizIC",
        "outputId": "8071bd52-96d4-46d6-d264-588b4e4b092f"
      },
      "outputs": [
        {
          "name": "stdout",
          "output_type": "stream",
          "text": [
            "21\n"
          ]
        }
      ],
      "source": [
        "n = 6\n",
        "print(n*(n+1)//2)"
      ]
    },
    {
      "cell_type": "markdown",
      "metadata": {
        "id": "11uM4c0LnBzJ"
      },
      "source": [
        "### 2. **Dictionary**"
      ]
    },
    {
      "cell_type": "code",
      "execution_count": null,
      "metadata": {
        "id": "hsC4mbj2rAv-"
      },
      "outputs": [],
      "source": [
        "user_name = 'Akash'\n",
        "phone_no = 92123874128\n",
        "address = 'delhi'\n",
        "batch = 'd-10'\n",
        "email = 'akash@gmail.com'\n",
        "gender = ''\n",
        "dob = ''\n",
        "education_background = ''\n",
        "isWorking = True\n",
        "\n",
        "dct = {'roll_no' : 101, 'roll_no' : 102, 'name' : 'Manish', 'address' : 'noida', 'phone' : 1269841212}"
      ]
    },
    {
      "cell_type": "code",
      "execution_count": 2,
      "metadata": {
        "id": "OBlgJeownmm9"
      },
      "outputs": [],
      "source": [
        "dct = {101: {'name': 'Alice Johnson', 'address': '123 Main St, Anytown, CA 91234', 'phone': ['555-123-4567'], 'marks': {'eng': 85, 'hindi': 78, 'maths': 92}},\n",
        "       102: {'name': 'Bob Williams', 'address': '456 Oak Ave, Somewhere, TX 75001', 'phone': ['555-987-6543'], 'marks': {'eng': 70, 'hindi': 88, 'maths': 75}},\n",
        "       103: {'name': 'Charlie Brown', 'address': '789 Pine Ln, Elsewhere, FL 33101', 'phone': ['555-555-1212'], 'marks': {'eng': 95, 'hindi': 90, 'maths': 80}},\n",
        "       104: {'name': 'Diana Miller', 'address': '101 Maple Dr, Anytime, NY 10001', 'phone': ['555-222-3333'], 'marks': {'eng': 88, 'hindi': 75, 'maths': 96}},\n",
        "       105: {'name': 'Ethan Davis', 'address': '222 Elm Ct, Anywhere, IL 60601', 'phone': ['555-444-5555'], 'marks': {'eng': 78, 'hindi': 82, 'maths': 88}}}\n"
      ]
    },
    {
      "cell_type": "code",
      "execution_count": 5,
      "metadata": {
        "colab": {
          "base_uri": "https://localhost:8080/"
        },
        "id": "DeIZgCzOnBG5",
        "outputId": "0127b233-98ed-4903-924a-10a6f9d1782d"
      },
      "outputs": [
        {
          "data": {
            "text/plain": [
              "{101: {'name': 'Alice Johnson',\n",
              "  'address': '123 Main St, Anytown, CA 91234',\n",
              "  'phone': ['555-123-4567'],\n",
              "  'marks': {'eng': 85, 'hindi': 78, 'maths': 92}},\n",
              " 102: {'name': 'Bob Williams',\n",
              "  'address': '456 Oak Ave, Somewhere, TX 75001',\n",
              "  'phone': ['555-987-6543'],\n",
              "  'marks': {'eng': 70, 'hindi': 88, 'maths': 75}},\n",
              " 103: {'name': 'Charlie Brown',\n",
              "  'address': '789 Pine Ln, Elsewhere, FL 33101',\n",
              "  'phone': ['555-555-1212'],\n",
              "  'marks': {'eng': 95, 'hindi': 90, 'maths': 80}},\n",
              " 104: {'name': 'Diana Miller',\n",
              "  'address': '101 Maple Dr, Anytime, NY 10001',\n",
              "  'phone': ['555-222-3333'],\n",
              "  'marks': {'eng': 88, 'hindi': 75, 'maths': 96}},\n",
              " 105: {'name': 'Ethan Davis',\n",
              "  'address': '222 Elm Ct, Anywhere, IL 60601',\n",
              "  'phone': ['555-444-5555'],\n",
              "  'marks': {'eng': 78, 'hindi': 82, 'maths': 88}}}"
            ]
          },
          "execution_count": 5,
          "metadata": {},
          "output_type": "execute_result"
        }
      ],
      "source": [
        "dct"
      ]
    },
    {
      "cell_type": "code",
      "execution_count": 3,
      "metadata": {
        "colab": {
          "base_uri": "https://localhost:8080/"
        },
        "id": "7JopUM5D8W0t",
        "outputId": "8ac665f2-f29e-4b51-f881-c8b3d7b64b51"
      },
      "outputs": [
        {
          "name": "stdout",
          "output_type": "stream",
          "text": [
            "Roll No     : 101\n",
            "Name        : Alice Johnson\n",
            "Address     : 123 Main St, Anytown, CA 91234\n",
            "Phone No    : ['555-123-4567']\n",
            "Total Marks : 255\n",
            "no_of_exams : 3\n",
            "Percentage  : 85.0 %\n",
            "------------------------------\n",
            "Roll No     : 102\n",
            "Name        : Bob Williams\n",
            "Address     : 456 Oak Ave, Somewhere, TX 75001\n",
            "Phone No    : ['555-987-6543']\n",
            "Total Marks : 233\n",
            "no_of_exams : 3\n",
            "Percentage  : 77.67 %\n",
            "------------------------------\n",
            "Roll No     : 103\n",
            "Name        : Charlie Brown\n",
            "Address     : 789 Pine Ln, Elsewhere, FL 33101\n",
            "Phone No    : ['555-555-1212']\n",
            "Total Marks : 265\n",
            "no_of_exams : 3\n",
            "Percentage  : 88.33 %\n",
            "------------------------------\n",
            "Roll No     : 104\n",
            "Name        : Diana Miller\n",
            "Address     : 101 Maple Dr, Anytime, NY 10001\n",
            "Phone No    : ['555-222-3333']\n",
            "Total Marks : 259\n",
            "no_of_exams : 3\n",
            "Percentage  : 86.33 %\n",
            "------------------------------\n",
            "Roll No     : 105\n",
            "Name        : Ethan Davis\n",
            "Address     : 222 Elm Ct, Anywhere, IL 60601\n",
            "Phone No    : ['555-444-5555']\n",
            "Total Marks : 248\n",
            "no_of_exams : 3\n",
            "Percentage  : 82.67 %\n",
            "------------------------------\n"
          ]
        }
      ],
      "source": [
        "for key in dct.keys():\n",
        "\n",
        "  total_marks = sum(list(dct[key]['marks'].values()))\n",
        "  no_of_exams = len(list(dct[key]['marks'].values()))\n",
        "  percentage  = round((total_marks/no_of_exams),2)\n",
        "\n",
        "  print('Roll No     :', key)\n",
        "  print('Name        :', dct[key]['name'])\n",
        "  print('Address     :', dct[key]['address'])\n",
        "  print('Phone No    :', dct[key]['phone'])\n",
        "  print('Total Marks :', total_marks)\n",
        "  print('no_of_exams :', no_of_exams)\n",
        "  print('Percentage  :', percentage, \"%\")\n",
        "  print('-'*30)"
      ]
    },
    {
      "cell_type": "code",
      "execution_count": 4,
      "metadata": {
        "colab": {
          "base_uri": "https://localhost:8080/"
        },
        "id": "hE6jI7NCmZww",
        "outputId": "49d9a7fb-5e91-4875-9b49-9052b9db0c8f"
      },
      "outputs": [
        {
          "name": "stdout",
          "output_type": "stream",
          "text": [
            "101 | Alice Johnson | dict_values([85, 78, 92])\n",
            "102 | Bob Williams | dict_values([70, 88, 75])\n",
            "103 | Charlie Brown | dict_values([95, 90, 80])\n",
            "104 | Diana Miller | dict_values([88, 75, 96])\n",
            "105 | Ethan Davis | dict_values([78, 82, 88])\n"
          ]
        }
      ],
      "source": [
        "for roll_no in dct.keys():\n",
        "  print(roll_no, \"|\", dct[roll_no]['name'] , \"|\", dct[roll_no]['marks'].values())"
      ]
    },
    {
      "cell_type": "code",
      "execution_count": 6,
      "metadata": {
        "colab": {
          "base_uri": "https://localhost:8080/"
        },
        "id": "3HpbbgrjmZjn",
        "outputId": "c122e5ce-a2f5-49b9-c280-c0e131f172df"
      },
      "outputs": [
        {
          "name": "stdout",
          "output_type": "stream",
          "text": [
            "Roll_No: 101\n",
            "name Alice Johnson\n",
            "address 123 Main St, Anytown, CA 91234\n",
            "phone ['555-123-4567']\n",
            "marks {'eng': 85, 'hindi': 78, 'maths': 92}\n",
            "eng 85, hindi 78, maths 92, \n",
            "Total Marks:  255\n",
            "Percentage:  85.0\n",
            "----------------------------------\n",
            "\n",
            "Roll_No: 102\n",
            "name Bob Williams\n",
            "address 456 Oak Ave, Somewhere, TX 75001\n",
            "phone ['555-987-6543']\n",
            "marks {'eng': 70, 'hindi': 88, 'maths': 75}\n",
            "eng 70, hindi 88, maths 75, \n",
            "Total Marks:  233\n",
            "Percentage:  77.66666666666666\n",
            "----------------------------------\n",
            "\n",
            "Roll_No: 103\n",
            "name Charlie Brown\n",
            "address 789 Pine Ln, Elsewhere, FL 33101\n",
            "phone ['555-555-1212']\n",
            "marks {'eng': 95, 'hindi': 90, 'maths': 80}\n",
            "eng 95, hindi 90, maths 80, \n",
            "Total Marks:  265\n",
            "Percentage:  88.33333333333333\n",
            "----------------------------------\n",
            "\n",
            "Roll_No: 104\n",
            "name Diana Miller\n",
            "address 101 Maple Dr, Anytime, NY 10001\n",
            "phone ['555-222-3333']\n",
            "marks {'eng': 88, 'hindi': 75, 'maths': 96}\n",
            "eng 88, hindi 75, maths 96, \n",
            "Total Marks:  259\n",
            "Percentage:  86.33333333333333\n",
            "----------------------------------\n",
            "\n",
            "Roll_No: 105\n",
            "name Ethan Davis\n",
            "address 222 Elm Ct, Anywhere, IL 60601\n",
            "phone ['555-444-5555']\n",
            "marks {'eng': 78, 'hindi': 82, 'maths': 88}\n",
            "eng 78, hindi 82, maths 88, \n",
            "Total Marks:  248\n",
            "Percentage:  82.66666666666667\n",
            "----------------------------------\n",
            "\n"
          ]
        }
      ],
      "source": [
        "for i in dct.keys():\n",
        "    print(\"Roll_No:\", i)\n",
        "\n",
        "    for j in dct[i].keys():\n",
        "        print(j, dct[i][j])\n",
        "        total_marks=0\n",
        "        if(j=='marks'):\n",
        "            for k in dct[i][j].keys():\n",
        "                print(k, dct[i][j][k], end=\", \")\n",
        "                total_marks+=dct[i][j][k]\n",
        "            print(\"\\nTotal Marks: \", total_marks)\n",
        "            perct=(total_marks/300)*100\n",
        "            print(\"Percentage: \", perct)\n",
        "    print(\"----------------------------------\\n\")"
      ]
    },
    {
      "cell_type": "code",
      "execution_count": 7,
      "metadata": {
        "colab": {
          "base_uri": "https://localhost:8080/"
        },
        "id": "PyXnPFKXmZC7",
        "outputId": "ca43c2e0-5ff6-4a2a-fa7e-080a169b5a47"
      },
      "outputs": [
        {
          "data": {
            "text/plain": [
              "['555-123-4567']"
            ]
          },
          "execution_count": 7,
          "metadata": {},
          "output_type": "execute_result"
        }
      ],
      "source": [
        "dct[101]['phone']"
      ]
    },
    {
      "cell_type": "code",
      "execution_count": 8,
      "metadata": {
        "colab": {
          "base_uri": "https://localhost:8080/",
          "height": 35
        },
        "id": "7tbxykPfnUUa",
        "outputId": "5b515866-2b7c-425e-ee3c-d93e2c1e5c21"
      },
      "outputs": [
        {
          "data": {
            "application/vnd.google.colaboratory.intrinsic+json": {
              "type": "string"
            },
            "text/plain": [
              "'Sonasman'"
            ]
          },
          "execution_count": 8,
          "metadata": {},
          "output_type": "execute_result"
        }
      ],
      "source": [
        "'Sonasman Roychowdhuri'.split(' ')[0]"
      ]
    },
    {
      "cell_type": "code",
      "execution_count": 9,
      "metadata": {
        "colab": {
          "base_uri": "https://localhost:8080/"
        },
        "id": "XC-uwk0InUHK",
        "outputId": "2cef54d8-b06d-4a7e-dc41-9a3fc3a1eddb"
      },
      "outputs": [
        {
          "data": {
            "text/plain": [
              "{'name': 'Alice Johnson',\n",
              " 'address': '123 Main St, Anytown, CA 91234',\n",
              " 'phone': ['555-123-4567'],\n",
              " 'marks': 90}"
            ]
          },
          "execution_count": 9,
          "metadata": {},
          "output_type": "execute_result"
        }
      ],
      "source": [
        "data = {'name': 'Alice Johnson',\n",
        " 'address': '123 Main St, Anytown, CA 91234',\n",
        " 'phone': ['555-123-4567'],\n",
        " 'marks': {'eng': 85, 'hindi': 78, 'maths': 92}}\n",
        "\n",
        "data['marks'] = 90\n",
        "\n",
        "data"
      ]
    },
    {
      "cell_type": "code",
      "execution_count": null,
      "metadata": {
        "colab": {
          "base_uri": "https://localhost:8080/"
        },
        "id": "03oYliwl2KAC",
        "outputId": "2fa06ef2-61ef-4ac5-b409-606427565c10"
      },
      "outputs": [
        {
          "name": "stdout",
          "output_type": "stream",
          "text": [
            "101\n",
            "102\n",
            "103\n",
            "104\n",
            "105\n"
          ]
        }
      ],
      "source": [
        "for roll_no in dct.keys():\n",
        "  print(roll_no)"
      ]
    }
  ],
  "metadata": {
    "colab": {
      "provenance": []
    },
    "kernelspec": {
      "display_name": "Python 3",
      "name": "python3"
    },
    "language_info": {
      "name": "python"
    }
  },
  "nbformat": 4,
  "nbformat_minor": 0
}
