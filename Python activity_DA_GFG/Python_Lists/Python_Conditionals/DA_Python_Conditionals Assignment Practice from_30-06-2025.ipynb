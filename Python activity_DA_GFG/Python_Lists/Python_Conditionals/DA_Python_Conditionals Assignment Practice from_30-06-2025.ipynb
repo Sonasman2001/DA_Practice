{
  "cells": [
    {
      "cell_type": "markdown",
      "metadata": {
        "id": "qA-pllBq9V-R"
      },
      "source": [
        "# 1. **Comparison**"
      ]
    },
    {
      "cell_type": "code",
      "execution_count": 38,
      "metadata": {
        "id": "vcJgdtGM9JQ2"
      },
      "outputs": [],
      "source": [
        "age = 19"
      ]
    },
    {
      "cell_type": "code",
      "execution_count": 39,
      "metadata": {
        "colab": {
          "base_uri": "https://localhost:8080/"
        },
        "id": "_tc9ra-V95Tn",
        "outputId": "4c39e64f-42b2-438b-ec00-bc7782a721b8"
      },
      "outputs": [
        {
          "name": "stdout",
          "output_type": "stream",
          "text": [
            "True\n"
          ]
        }
      ],
      "source": [
        "print(age > 18)"
      ]
    },
    {
      "cell_type": "code",
      "execution_count": 40,
      "metadata": {
        "colab": {
          "base_uri": "https://localhost:8080/"
        },
        "id": "FPAlFAJN98JQ",
        "outputId": "7ca51600-9557-4090-c103-028764f1094c"
      },
      "outputs": [
        {
          "name": "stdout",
          "output_type": "stream",
          "text": [
            "True\n"
          ]
        }
      ],
      "source": [
        "print(age >= 18)"
      ]
    },
    {
      "cell_type": "code",
      "execution_count": 41,
      "metadata": {
        "colab": {
          "base_uri": "https://localhost:8080/"
        },
        "id": "WOntNwbf97Z7",
        "outputId": "182e06b4-ef33-4152-a0d5-5b3327a2dd4b"
      },
      "outputs": [
        {
          "name": "stdout",
          "output_type": "stream",
          "text": [
            "False\n"
          ]
        }
      ],
      "source": [
        "print(age < 18)"
      ]
    },
    {
      "cell_type": "code",
      "execution_count": 42,
      "metadata": {
        "colab": {
          "base_uri": "https://localhost:8080/"
        },
        "id": "5M0aJAkc97II",
        "outputId": "7b7b4c8b-fdfc-4287-8840-a08089b4368a"
      },
      "outputs": [
        {
          "name": "stdout",
          "output_type": "stream",
          "text": [
            "False\n"
          ]
        }
      ],
      "source": [
        "print(age <= 18)"
      ]
    },
    {
      "cell_type": "code",
      "execution_count": 43,
      "metadata": {
        "colab": {
          "base_uri": "https://localhost:8080/"
        },
        "id": "tSinP9Sh9637",
        "outputId": "f72d4995-41d0-4542-ea77-617250c9c9fb"
      },
      "outputs": [
        {
          "name": "stdout",
          "output_type": "stream",
          "text": [
            "False\n"
          ]
        }
      ],
      "source": [
        "print(age == 18)"
      ]
    },
    {
      "cell_type": "code",
      "execution_count": 44,
      "metadata": {
        "colab": {
          "base_uri": "https://localhost:8080/"
        },
        "id": "X4dINfLn96jb",
        "outputId": "8c29d8bb-bd05-4633-bb25-d15ad2ffff33"
      },
      "outputs": [
        {
          "name": "stdout",
          "output_type": "stream",
          "text": [
            "True\n"
          ]
        }
      ],
      "source": [
        "print(age != 18)"
      ]
    },
    {
      "cell_type": "code",
      "execution_count": 45,
      "metadata": {
        "colab": {
          "base_uri": "https://localhost:8080/"
        },
        "id": "xS9vMwyU95-I",
        "outputId": "c65a79e2-7b56-453d-82f8-e372c90b14b7"
      },
      "outputs": [
        {
          "name": "stdout",
          "output_type": "stream",
          "text": [
            "True\n"
          ]
        }
      ],
      "source": [
        "print(True == 1.0)"
      ]
    },
    {
      "cell_type": "markdown",
      "metadata": {
        "id": "1uP5pdQI-t9Z"
      },
      "source": [
        "# 2. **Logical**"
      ]
    },
    {
      "cell_type": "code",
      "execution_count": 46,
      "metadata": {
        "colab": {
          "base_uri": "https://localhost:8080/"
        },
        "id": "AngeCnM0-z9o",
        "outputId": "18bb2001-ddf2-426b-9ade-3d7095da284d"
      },
      "outputs": [
        {
          "name": "stdout",
          "output_type": "stream",
          "text": [
            "True\n"
          ]
        }
      ],
      "source": [
        "print((age >= 18) and (age <= 100))"
      ]
    },
    {
      "cell_type": "code",
      "execution_count": 47,
      "metadata": {
        "colab": {
          "base_uri": "https://localhost:8080/"
        },
        "id": "sujAFubQ-zuD",
        "outputId": "7691a49d-0f35-4d31-b9f4-c6051517246e"
      },
      "outputs": [
        {
          "name": "stdout",
          "output_type": "stream",
          "text": [
            "True\n"
          ]
        }
      ],
      "source": [
        "print((age > 18) or (age <= 100))"
      ]
    },
    {
      "cell_type": "code",
      "execution_count": 48,
      "metadata": {
        "colab": {
          "base_uri": "https://localhost:8080/"
        },
        "id": "HhkAZXxs-zX9",
        "outputId": "f06b271e-2024-40e6-d656-8d90dc0dda9c"
      },
      "outputs": [
        {
          "name": "stdout",
          "output_type": "stream",
          "text": [
            "False\n"
          ]
        }
      ],
      "source": [
        "print(not (age <= 100))"
      ]
    },
    {
      "cell_type": "code",
      "execution_count": 49,
      "metadata": {
        "colab": {
          "base_uri": "https://localhost:8080/"
        },
        "id": "1Xr1YND9-yV2",
        "outputId": "4affbd7a-9d85-46db-f3cb-2994b4c2725a"
      },
      "outputs": [
        {
          "name": "stdout",
          "output_type": "stream",
          "text": [
            "--------------------\n"
          ]
        }
      ],
      "source": [
        "print('-'*20)"
      ]
    },
    {
      "cell_type": "markdown",
      "metadata": {
        "id": "qhEuQm0s_-UP"
      },
      "source": [
        "# 3. **Typecasting**"
      ]
    },
    {
      "cell_type": "code",
      "execution_count": 50,
      "metadata": {
        "colab": {
          "base_uri": "https://localhost:8080/"
        },
        "id": "d01BZib0AKqV",
        "outputId": "e2d83b96-5b2e-4b4f-b0ca-432efec51d7b"
      },
      "outputs": [
        {
          "name": "stdout",
          "output_type": "stream",
          "text": [
            "3 -3 -1476476 1\n"
          ]
        }
      ],
      "source": [
        "# int()\n",
        "print(int(3.5), int(-3.5), int('-1476476'), int(True))"
      ]
    },
    {
      "cell_type": "code",
      "execution_count": 51,
      "metadata": {
        "colab": {
          "base_uri": "https://localhost:8080/"
        },
        "id": "IvCMVfWtAMBE",
        "outputId": "fd5bb577-a790-4483-e6b9-6d020cff263b"
      },
      "outputs": [
        {
          "name": "stdout",
          "output_type": "stream",
          "text": [
            "3.0 -3.0 -1476476.0 1.0\n"
          ]
        }
      ],
      "source": [
        "# float()\n",
        "print(float(3), float(-3), float('-1476476'), float(True))"
      ]
    },
    {
      "cell_type": "code",
      "execution_count": 52,
      "metadata": {
        "colab": {
          "base_uri": "https://localhost:8080/"
        },
        "id": "NCJCvdRAALkU",
        "outputId": "622afcc4-aa62-4bd9-ea79-0a4881e30524"
      },
      "outputs": [
        {
          "name": "stdout",
          "output_type": "stream",
          "text": [
            "3 -3 3.5 True\n"
          ]
        }
      ],
      "source": [
        "# str()\n",
        "print(str(3), str(-3), str(3.5), str(True))"
      ]
    },
    {
      "cell_type": "code",
      "execution_count": 53,
      "metadata": {
        "colab": {
          "base_uri": "https://localhost:8080/"
        },
        "id": "O3ramU6FALYH",
        "outputId": "c5918de8-c6ca-4357-e8c1-f418320b21ca"
      },
      "outputs": [
        {
          "name": "stdout",
          "output_type": "stream",
          "text": [
            "True True True True True False False False\n"
          ]
        }
      ],
      "source": [
        "# bool()\n",
        "print(bool(3), bool(-3), bool(3.5), bool('A'), bool(' '), bool(0), bool(0.0), bool(''))"
      ]
    },
    {
      "cell_type": "markdown",
      "metadata": {
        "id": "LUdEnrPiCbIE"
      },
      "source": [
        "# 4. Conditions"
      ]
    },
    {
      "cell_type": "code",
      "execution_count": 54,
      "metadata": {
        "colab": {
          "base_uri": "https://localhost:8080/"
        },
        "id": "oLfsK8qQCsv5",
        "outputId": "c8b903ad-2eff-44a2-aeec-dced97041430"
      },
      "outputs": [
        {
          "name": "stdout",
          "output_type": "stream",
          "text": [
            "eligible\n"
          ]
        }
      ],
      "source": [
        "# age = 18\n",
        "\n",
        "if (age >= 18) and (age <= 100):\n",
        "    print('eligible')\n",
        "\n",
        "elif (age >= 0) and (age < 18):\n",
        "    print('not eligible')\n",
        "\n",
        "else:\n",
        "    print('not a valid age')"
      ]
    },
    {
      "cell_type": "code",
      "execution_count": 55,
      "metadata": {
        "id": "UGXDib30CvRy"
      },
      "outputs": [],
      "source": [
        "number = 15"
      ]
    },
    {
      "cell_type": "code",
      "execution_count": 56,
      "metadata": {
        "colab": {
          "base_uri": "https://localhost:8080/"
        },
        "id": "xx5I6owFC36r",
        "outputId": "a93ac165-873f-468a-8275-125133812062"
      },
      "outputs": [
        {
          "name": "stdout",
          "output_type": "stream",
          "text": [
            "divisible by 5\n"
          ]
        }
      ],
      "source": [
        "#q1\n",
        "if (number%5 == 0):\n",
        "    print('divisible by 5')\n",
        "else:\n",
        "    print('not divisible by 5')"
      ]
    },
    {
      "cell_type": "code",
      "execution_count": 57,
      "metadata": {
        "colab": {
          "base_uri": "https://localhost:8080/"
        },
        "id": "5ubf15k1C3vZ",
        "outputId": "5fed4f41-32db-40ac-9b80-287891380d72"
      },
      "outputs": [
        {
          "name": "stdout",
          "output_type": "stream",
          "text": [
            "not divisible by 5 and 7\n"
          ]
        }
      ],
      "source": [
        "#q2\n",
        "if (number%5 == 0) and (number%7 == 0):\n",
        "    print('divisible by 5 and 7')\n",
        "else:\n",
        "    print('not divisible by 5 and 7')"
      ]
    },
    {
      "cell_type": "code",
      "execution_count": 58,
      "metadata": {
        "colab": {
          "base_uri": "https://localhost:8080/"
        },
        "id": "zvtb_XPAC3mF",
        "outputId": "4cd76e32-b69d-4604-b2fb-75d0d7e446fa"
      },
      "outputs": [
        {
          "name": "stdout",
          "output_type": "stream",
          "text": [
            "~()\n"
          ]
        }
      ],
      "source": [
        "#q3\n",
        "if (number%5 == 0) and (number%7 == 0) and (number%13 != 0):\n",
        "    print('divisible by 5 and 7 but not 13')\n",
        "else:\n",
        "    print('~()')"
      ]
    },
    {
      "cell_type": "code",
      "execution_count": 59,
      "metadata": {
        "colab": {
          "base_uri": "https://localhost:8080/"
        },
        "id": "Tcb10WJFC3Zr",
        "outputId": "c81fc671-3511-47e7-f146-9f5ab19fdb02"
      },
      "outputs": [
        {
          "name": "stdout",
          "output_type": "stream",
          "text": [
            "divisible by 5 and 7 both\n"
          ]
        }
      ],
      "source": [
        "#q4\n",
        "n = 35\n",
        "\n",
        "if (n%5 == 0) and (n%7 == 0):\n",
        "    print('divisible by 5 and 7 both')\n",
        "\n",
        "elif (n%5 == 0) and (n%7 != 0):\n",
        "    print('5 not 7')\n",
        "\n",
        "elif (n%5 != 0) and (n%7 == 0):\n",
        "    print('7 not 5')\n",
        "\n",
        "elif (n%5 != 0) and (n%7 != 0):\n",
        "    print('not 5 not 7')"
      ]
    },
    {
      "cell_type": "code",
      "execution_count": 60,
      "metadata": {
        "colab": {
          "base_uri": "https://localhost:8080/"
        },
        "id": "TgtQ-WFeC2kY",
        "outputId": "b0497c55-5cfe-44b3-a2d5-3367389c7f8c"
      },
      "outputs": [
        {
          "name": "stdout",
          "output_type": "stream",
          "text": [
            "5, not 7\n"
          ]
        }
      ],
      "source": [
        "n = 10\n",
        "\n",
        "if n%5 == 0:\n",
        "    if n%7 == 0:\n",
        "        if n%13 == 0:\n",
        "            print('5,7,13')\n",
        "        else:\n",
        "            print('5, 7 not 13')\n",
        "    else:\n",
        "        print('5, not 7')\n",
        "\n",
        "elif n%7 == 0:\n",
        "    if n%13 == 0:\n",
        "        print('7,13 not 5')\n",
        "    else:\n",
        "        print('7 not 13 not 5')\n",
        "\n",
        "else:\n",
        "    print('not 5 not 7 not 13')"
      ]
    }
  ],
  "metadata": {
    "colab": {
      "provenance": []
    },
    "kernelspec": {
      "display_name": "Python 3",
      "name": "python3"
    },
    "language_info": {
      "name": "python"
    }
  },
  "nbformat": 4,
  "nbformat_minor": 0
}
