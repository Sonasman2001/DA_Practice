{
  "cells": [
    {
      "cell_type": "markdown",
      "metadata": {
        "id": "OzvossTEf5ce"
      },
      "source": [
        "# 1. Lists"
      ]
    },
    {
      "cell_type": "code",
      "execution_count": 1,
      "metadata": {
        "id": "W40gMVTAfzDQ"
      },
      "outputs": [],
      "source": [
        "user_name = 'Akash'\n",
        "phone_no = 92123874128\n",
        "address = 'delhi'\n",
        "batch = 'd-10'\n",
        "email = 'akash@gmail.com'\n",
        "gender = ''\n",
        "dob = ''\n",
        "education_background = ''\n",
        "isWorking = True"
      ]
    },
    {
      "cell_type": "code",
      "execution_count": 7,
      "metadata": {
        "id": "TijNISXfgN8V"
      },
      "outputs": [],
      "source": [
        "user_1 = ['Akash',92123874128,'delhi','d-10']"
      ]
    },
    {
      "cell_type": "code",
      "execution_count": 9,
      "metadata": {
        "id": "IeNf7y4xgOgh"
      },
      "outputs": [],
      "source": [
        "user_1.append(12)"
      ]
    },
    {
      "cell_type": "code",
      "execution_count": 8,
      "metadata": {
        "colab": {
          "base_uri": "https://localhost:8080/"
        },
        "id": "0SWFVDA1gPBA",
        "outputId": "2e4e0920-321a-4f85-910e-3a9f38e96908"
      },
      "outputs": [
        {
          "data": {
            "text/plain": [
              "['Akash', 92123874128, 'delhi', 'd-10']"
            ]
          },
          "execution_count": 8,
          "metadata": {},
          "output_type": "execute_result"
        }
      ],
      "source": [
        "user_1"
      ]
    },
    {
      "cell_type": "code",
      "execution_count": 10,
      "metadata": {
        "colab": {
          "base_uri": "https://localhost:8080/"
        },
        "id": "frIcLL6wgPgW",
        "outputId": "0e62a461-754a-471b-d3e0-020e73e9a06d"
      },
      "outputs": [
        {
          "data": {
            "text/plain": [
              "['Akash', 92123874128, 'delhi', 'd-10', 12]"
            ]
          },
          "execution_count": 10,
          "metadata": {},
          "output_type": "execute_result"
        }
      ],
      "source": [
        "user_1"
      ]
    },
    {
      "cell_type": "code",
      "execution_count": 11,
      "metadata": {
        "id": "R1h8lsYFgYrj"
      },
      "outputs": [],
      "source": [
        "user_1[0] = 'Manish'"
      ]
    },
    {
      "cell_type": "code",
      "execution_count": 12,
      "metadata": {
        "colab": {
          "base_uri": "https://localhost:8080/"
        },
        "id": "nVL-N1g8gZOq",
        "outputId": "0ee8bb75-4090-412a-84d9-1489134d7157"
      },
      "outputs": [
        {
          "data": {
            "text/plain": [
              "['Manish', 92123874128, 'delhi', 'd-10', 12]"
            ]
          },
          "execution_count": 12,
          "metadata": {},
          "output_type": "execute_result"
        }
      ],
      "source": [
        "user_1"
      ]
    },
    {
      "cell_type": "markdown",
      "metadata": {
        "id": "um-bbFWBhQE_"
      },
      "source": [
        "# 1.2) Practice List\n",
        "\n",
        "1.2.1) Append all the even numbers between 0-100 into the list."
      ]
    },
    {
      "cell_type": "code",
      "execution_count": 13,
      "metadata": {
        "colab": {
          "base_uri": "https://localhost:8080/"
        },
        "id": "FD3wr2gKgZrl",
        "outputId": "1b886b45-5154-4008-c0f8-6da953a05147"
      },
      "outputs": [
        {
          "name": "stdout",
          "output_type": "stream",
          "text": [
            "[2, 4, 6, 8, 10, 12, 14, 16, 18, 20, 22, 24, 26, 28, 30, 32, 34, 36, 38, 40, 42, 44, 46, 48, 50, 52, 54, 56, 58, 60, 62, 64, 66, 68, 70, 72, 74, 76, 78, 80, 82, 84, 86, 88, 90, 92, 94, 96, 98]\n"
          ]
        }
      ],
      "source": [
        "lst = []\n",
        "\n",
        "for i in range(2,100,2):\n",
        "  lst.append(i)\n",
        "\n",
        "print(lst)"
      ]
    },
    {
      "cell_type": "markdown",
      "metadata": {
        "id": "7cKjtYAghpNF"
      },
      "source": [
        "1.2.2) Sum of all the elements of a list."
      ]
    },
    {
      "cell_type": "code",
      "execution_count": 14,
      "metadata": {
        "colab": {
          "base_uri": "https://localhost:8080/"
        },
        "id": "pwI_iiaDgaMD",
        "outputId": "31c30b94-8956-4fbe-e7cf-9e20577b8418"
      },
      "outputs": [
        {
          "name": "stdout",
          "output_type": "stream",
          "text": [
            "2450\n"
          ]
        }
      ],
      "source": [
        "s = 0\n",
        "\n",
        "for i in range(len(lst)):\n",
        "  s = s + lst[i]\n",
        "\n",
        "print(s)"
      ]
    },
    {
      "cell_type": "markdown",
      "metadata": {
        "id": "p2cK3Rp-h1GO"
      },
      "source": [
        "1.2.3) Sum of all the even place elements of a list."
      ]
    },
    {
      "cell_type": "code",
      "execution_count": 15,
      "metadata": {
        "colab": {
          "base_uri": "https://localhost:8080/"
        },
        "id": "7eM3dUQrgarG",
        "outputId": "87086724-612a-4469-cdce-8a02c9150bef"
      },
      "outputs": [
        {
          "name": "stdout",
          "output_type": "stream",
          "text": [
            "1250\n"
          ]
        }
      ],
      "source": [
        "sum_even = 0\n",
        "\n",
        "for i in range(len(lst)):\n",
        "  if i%2 == 0:\n",
        "    sum_even = sum_even + lst[i]\n",
        "\n",
        "print(sum_even)"
      ]
    },
    {
      "cell_type": "markdown",
      "metadata": {
        "id": "WIVnXd39iHYO"
      },
      "source": [
        "1.2.4) Sum of all the odd place elements of a list."
      ]
    },
    {
      "cell_type": "code",
      "execution_count": 16,
      "metadata": {
        "colab": {
          "base_uri": "https://localhost:8080/"
        },
        "id": "ITc11LKqgbLV",
        "outputId": "b5cf2f34-9d65-47db-8a20-99523bd47134"
      },
      "outputs": [
        {
          "name": "stdout",
          "output_type": "stream",
          "text": [
            "1200\n"
          ]
        }
      ],
      "source": [
        "sum_odd = 0\n",
        "\n",
        "for i in range(len(lst)):\n",
        "  if i%2 != 0:\n",
        "    sum_odd = sum_odd + lst[i]\n",
        "\n",
        "print(sum_odd)"
      ]
    },
    {
      "cell_type": "markdown",
      "metadata": {
        "id": "1lyhYYkfiXJs"
      },
      "source": [
        "1.2.5) Difference between even and off place element sum of a list."
      ]
    },
    {
      "cell_type": "code",
      "execution_count": 17,
      "metadata": {
        "colab": {
          "base_uri": "https://localhost:8080/"
        },
        "id": "VysB-8JNgb0I",
        "outputId": "5b1b20d4-c896-4c86-f40b-6b01361ed19a"
      },
      "outputs": [
        {
          "name": "stdout",
          "output_type": "stream",
          "text": [
            "50\n"
          ]
        }
      ],
      "source": [
        "print(sum_even - sum_odd)"
      ]
    },
    {
      "cell_type": "code",
      "execution_count": 18,
      "metadata": {
        "colab": {
          "base_uri": "https://localhost:8080/"
        },
        "id": "0EAeDyZliwbX",
        "outputId": "07d20e22-d19c-4b24-c666-fdb8ffa0848d"
      },
      "outputs": [
        {
          "name": "stdout",
          "output_type": "stream",
          "text": [
            "enter a number : 6\n",
            "21\n"
          ]
        }
      ],
      "source": [
        "n = int(input('enter a number : '))\n",
        "\n",
        "# 5 ,100, 12300, 1287782231\n",
        "\n",
        "s = 0\n",
        "for i in range(n+1):\n",
        "  s += i\n",
        "print(s)"
      ]
    },
    {
      "cell_type": "code",
      "execution_count": 19,
      "metadata": {
        "colab": {
          "base_uri": "https://localhost:8080/",
          "height": 106
        },
        "id": "_VFENw3niw9O",
        "outputId": "cd7abdba-60fa-4382-ccbd-3b434e216446"
      },
      "outputs": [
        {
          "ename": "SyntaxError",
          "evalue": "cannot assign to literal here. Maybe you meant '==' instead of '='? (ipython-input-19-435460157.py, line 1)",
          "output_type": "error",
          "traceback": [
            "\u001b[0;36m  File \u001b[0;32m\"/tmp/ipython-input-19-435460157.py\"\u001b[0;36m, line \u001b[0;32m1\u001b[0m\n\u001b[0;31m    1 = 1\u001b[0m\n\u001b[0m    ^\u001b[0m\n\u001b[0;31mSyntaxError\u001b[0m\u001b[0;31m:\u001b[0m cannot assign to literal here. Maybe you meant '==' instead of '='?\n"
          ]
        }
      ],
      "source": [
        "1 = 1\n",
        "2 = 3\n",
        "3 = 6 (3*2)\n",
        "4 = 10 (4*2.5)\n",
        "5 = 15 (5*3)\n",
        "6 = 21 (6*3.5)\n",
        "7 = 28 (7*4)\n",
        "8 = 36 (8*4.5)\n",
        "\n",
        "3 = 6 (3*2)\n",
        "5 = 15 (5*3)\n",
        "7 = 28 (7*4)"
      ]
    },
    {
      "cell_type": "code",
      "execution_count": 20,
      "metadata": {
        "colab": {
          "base_uri": "https://localhost:8080/"
        },
        "id": "7SGZW-MSixv5",
        "outputId": "ba64c6ca-2f0c-4304-9257-a1c8499341bd"
      },
      "outputs": [
        {
          "name": "stdout",
          "output_type": "stream",
          "text": [
            "36.0\n"
          ]
        }
      ],
      "source": [
        "n = 8\n",
        "\n",
        "print(n * ((n//2) + .5))"
      ]
    },
    {
      "cell_type": "code",
      "execution_count": 21,
      "metadata": {
        "colab": {
          "base_uri": "https://localhost:8080/"
        },
        "id": "LEQZpgBoiyPb",
        "outputId": "ca56f5b9-a9df-4417-d7b6-61e6766c6f1f"
      },
      "outputs": [
        {
          "name": "stdout",
          "output_type": "stream",
          "text": [
            "353735486253483854526798828972561\n"
          ]
        }
      ],
      "source": [
        "n = 26598326498239841\n",
        "\n",
        "print(n * ((n//2) + 1))"
      ]
    },
    {
      "cell_type": "code",
      "execution_count": 22,
      "metadata": {
        "colab": {
          "base_uri": "https://localhost:8080/"
        },
        "id": "ZHC1xRjOizIC",
        "outputId": "8071bd52-96d4-46d6-d264-588b4e4b092f"
      },
      "outputs": [
        {
          "name": "stdout",
          "output_type": "stream",
          "text": [
            "21\n"
          ]
        }
      ],
      "source": [
        "n = 6\n",
        "print(n*(n+1)//2)"
      ]
    }
  ],
  "metadata": {
    "colab": {
      "provenance": []
    },
    "kernelspec": {
      "display_name": "Python 3",
      "name": "python3"
    },
    "language_info": {
      "name": "python"
    }
  },
  "nbformat": 4,
  "nbformat_minor": 0
}
