{
  "cells": [
    {
      "cell_type": "markdown",
      "metadata": {
        "id": "NI4LgHcpPLjS"
      },
      "source": [
        "# Assignment Questions"
      ]
    },
    {
      "cell_type": "markdown",
      "metadata": {
        "id": "u7O2Q0WJ3wkw"
      },
      "source": [
        "# **(i) Basic**"
      ]
    },
    {
      "cell_type": "markdown",
      "metadata": {
        "id": "VD90iDqU5aSy"
      },
      "source": [
        "1. Print numbers from 1 to 10 using a for loop."
      ]
    },
    {
      "cell_type": "code",
      "execution_count": 28,
      "metadata": {
        "colab": {
          "base_uri": "https://localhost:8080/"
        },
        "id": "MIi7nADy3lbB",
        "outputId": "c688f30a-0079-4012-c3b6-ceec3329aa7d"
      },
      "outputs": [
        {
          "name": "stdout",
          "output_type": "stream",
          "text": [
            "1\n",
            "2\n",
            "3\n",
            "4\n",
            "5\n",
            "6\n",
            "7\n",
            "8\n",
            "9\n",
            "10\n"
          ]
        }
      ],
      "source": [
        "for i in range(1, 11):\n",
        "  print(i)"
      ]
    },
    {
      "cell_type": "markdown",
      "metadata": {
        "id": "h5mvYOXY5bPa"
      },
      "source": [
        "2. Print even numbers from 1 to 20."
      ]
    },
    {
      "cell_type": "code",
      "execution_count": 29,
      "metadata": {
        "colab": {
          "base_uri": "https://localhost:8080/"
        },
        "id": "nhgIRpTP4Y6T",
        "outputId": "b154a983-39c4-4ad2-ec3f-bae8dbeb1de0"
      },
      "outputs": [
        {
          "name": "stdout",
          "output_type": "stream",
          "text": [
            "2\n",
            "4\n",
            "6\n",
            "8\n",
            "10\n",
            "12\n",
            "14\n",
            "16\n",
            "18\n",
            "20\n"
          ]
        }
      ],
      "source": [
        "for i in range(2, 21, 2):\n",
        "  print(i)"
      ]
    },
    {
      "cell_type": "markdown",
      "metadata": {
        "id": "oC4OtudT5dCu"
      },
      "source": [
        "3. Print odd numbers from 1 to 20."
      ]
    },
    {
      "cell_type": "code",
      "execution_count": 30,
      "metadata": {
        "colab": {
          "base_uri": "https://localhost:8080/"
        },
        "id": "0hs5LgNr4Yxy",
        "outputId": "5dfe8bed-1497-461a-c8b5-5bbfc6576a8a"
      },
      "outputs": [
        {
          "name": "stdout",
          "output_type": "stream",
          "text": [
            "1\n",
            "3\n",
            "5\n",
            "7\n",
            "9\n",
            "11\n",
            "13\n",
            "15\n",
            "17\n",
            "19\n"
          ]
        }
      ],
      "source": [
        "for i in range(1, 21, 2):\n",
        "  print(i)"
      ]
    },
    {
      "cell_type": "markdown",
      "metadata": {
        "id": "Hk5LXlxv5oGm"
      },
      "source": [
        "4. Print the squares of numbers from 1 to 10."
      ]
    },
    {
      "cell_type": "code",
      "execution_count": 31,
      "metadata": {
        "colab": {
          "base_uri": "https://localhost:8080/"
        },
        "id": "sLOUfhgf4YjN",
        "outputId": "49df19cf-12b2-4683-cfcd-7249f4bf24fe"
      },
      "outputs": [
        {
          "name": "stdout",
          "output_type": "stream",
          "text": [
            "1\n",
            "4\n",
            "9\n",
            "16\n",
            "25\n",
            "36\n",
            "49\n",
            "64\n",
            "81\n",
            "100\n"
          ]
        }
      ],
      "source": [
        "for i in range(1, 11):\n",
        "  print(i ** 2)"
      ]
    },
    {
      "cell_type": "markdown",
      "metadata": {
        "id": "8yvLT80q5s_-"
      },
      "source": [
        "5. Print all numbers from 10 to 1 in reverse order."
      ]
    },
    {
      "cell_type": "code",
      "execution_count": 32,
      "metadata": {
        "colab": {
          "base_uri": "https://localhost:8080/"
        },
        "id": "90VhzcCL4Ya7",
        "outputId": "67c41105-7c02-41fa-b307-2fe04fef0bea"
      },
      "outputs": [
        {
          "name": "stdout",
          "output_type": "stream",
          "text": [
            "10\n",
            "9\n",
            "8\n",
            "7\n",
            "6\n",
            "5\n",
            "4\n",
            "3\n",
            "2\n",
            "1\n"
          ]
        }
      ],
      "source": [
        "for i in range(10, 0, -1):\n",
        "  print(i)"
      ]
    },
    {
      "cell_type": "markdown",
      "metadata": {
        "id": "hRYiit4F5vAl"
      },
      "source": [
        "6. Print the multiplication table of a given number."
      ]
    },
    {
      "cell_type": "code",
      "execution_count": 33,
      "metadata": {
        "colab": {
          "base_uri": "https://localhost:8080/"
        },
        "id": "3NkexBUkAmC1",
        "outputId": "bdce59a2-db2a-4af8-d4fa-f8f9d5ba646e"
      },
      "outputs": [
        {
          "name": "stdout",
          "output_type": "stream",
          "text": [
            "5 x 1 = 5\n",
            "5 x 2 = 10\n",
            "5 x 3 = 15\n",
            "5 x 4 = 20\n",
            "5 x 5 = 25\n",
            "5 x 6 = 30\n",
            "5 x 7 = 35\n",
            "5 x 8 = 40\n",
            "5 x 9 = 45\n",
            "5 x 10 = 50\n"
          ]
        }
      ],
      "source": [
        "num = 5\n",
        "for i in range(1, 11):\n",
        "  print(num, \"x\", i, \"=\", num*i)"
      ]
    },
    {
      "cell_type": "markdown",
      "metadata": {
        "id": "6fuEADyt5wQd"
      },
      "source": [
        "7. Print all numbers between 1 and 50 divisible by 3."
      ]
    },
    {
      "cell_type": "code",
      "execution_count": 34,
      "metadata": {
        "colab": {
          "base_uri": "https://localhost:8080/"
        },
        "id": "LKZ-WtXr4YGK",
        "outputId": "9cfec723-c47b-41b8-a6fa-eec638cafcb1"
      },
      "outputs": [
        {
          "name": "stdout",
          "output_type": "stream",
          "text": [
            "3\n",
            "6\n",
            "9\n",
            "12\n",
            "15\n",
            "18\n",
            "21\n",
            "24\n",
            "27\n",
            "30\n",
            "33\n",
            "36\n",
            "39\n",
            "42\n",
            "45\n",
            "48\n"
          ]
        }
      ],
      "source": [
        "for i in range(1, 51):\n",
        "  if i % 3 == 0:\n",
        "    print(i)"
      ]
    },
    {
      "cell_type": "markdown",
      "metadata": {
        "id": "2yK1aNHg5xbi"
      },
      "source": [
        "8. Print the cube of numbers from 1 to 5."
      ]
    },
    {
      "cell_type": "code",
      "execution_count": 35,
      "metadata": {
        "colab": {
          "base_uri": "https://localhost:8080/"
        },
        "id": "NYKOTPIY4X74",
        "outputId": "75af95b4-a4d0-46be-cdad-0a6049f4126d"
      },
      "outputs": [
        {
          "name": "stdout",
          "output_type": "stream",
          "text": [
            "1\n",
            "8\n",
            "27\n",
            "64\n",
            "125\n"
          ]
        }
      ],
      "source": [
        "for i in range(1, 6):\n",
        "  print(i ** 3)"
      ]
    },
    {
      "cell_type": "markdown",
      "metadata": {
        "id": "PYGKoqEc5yaL"
      },
      "source": [
        "9. Print numbers from 1 to 100 that are multiples of 7."
      ]
    },
    {
      "cell_type": "code",
      "execution_count": 36,
      "metadata": {
        "colab": {
          "base_uri": "https://localhost:8080/"
        },
        "id": "9l8V8i-A4Xw_",
        "outputId": "245b0a30-c8c7-450c-c0d6-b56970c95884"
      },
      "outputs": [
        {
          "name": "stdout",
          "output_type": "stream",
          "text": [
            "7\n",
            "14\n",
            "21\n",
            "28\n",
            "35\n",
            "42\n",
            "49\n",
            "56\n",
            "63\n",
            "70\n",
            "77\n",
            "84\n",
            "91\n",
            "98\n"
          ]
        }
      ],
      "source": [
        "for i in range(1, 101):\n",
        "  if i % 7 == 0:\n",
        "    print(i)"
      ]
    },
    {
      "cell_type": "markdown",
      "metadata": {
        "id": "ILi_5ncr5z75"
      },
      "source": [
        "10. Print the first 20 natural numbers."
      ]
    },
    {
      "cell_type": "code",
      "execution_count": 37,
      "metadata": {
        "colab": {
          "base_uri": "https://localhost:8080/"
        },
        "id": "KxqKxuJA4XlK",
        "outputId": "88b78d44-3a2c-4d7f-cd0a-329b59ccb0df"
      },
      "outputs": [
        {
          "name": "stdout",
          "output_type": "stream",
          "text": [
            "1\n",
            "2\n",
            "3\n",
            "4\n",
            "5\n",
            "6\n",
            "7\n",
            "8\n",
            "9\n",
            "10\n",
            "11\n",
            "12\n",
            "13\n",
            "14\n",
            "15\n",
            "16\n",
            "17\n",
            "18\n",
            "19\n",
            "20\n"
          ]
        }
      ],
      "source": [
        "for i in range(1, 21):\n",
        "  print(i)"
      ]
    },
    {
      "cell_type": "markdown",
      "metadata": {
        "id": "cC5sCjQu4e8T"
      },
      "source": [
        "# **(ii) Intermediate**\n"
      ]
    },
    {
      "cell_type": "markdown",
      "metadata": {
        "id": "Fj4OaAUl7Rnt"
      },
      "source": [
        "1. Print all two-digit numbers."
      ]
    },
    {
      "cell_type": "code",
      "execution_count": 38,
      "metadata": {
        "colab": {
          "base_uri": "https://localhost:8080/"
        },
        "id": "t6-upmxe4ozM",
        "outputId": "50e1aaac-6ef9-4542-957a-bfe095e6e503"
      },
      "outputs": [
        {
          "name": "stdout",
          "output_type": "stream",
          "text": [
            "10\n",
            "11\n",
            "12\n",
            "13\n",
            "14\n",
            "15\n",
            "16\n",
            "17\n",
            "18\n",
            "19\n",
            "20\n",
            "21\n",
            "22\n",
            "23\n",
            "24\n",
            "25\n",
            "26\n",
            "27\n",
            "28\n",
            "29\n",
            "30\n",
            "31\n",
            "32\n",
            "33\n",
            "34\n",
            "35\n",
            "36\n",
            "37\n",
            "38\n",
            "39\n",
            "40\n",
            "41\n",
            "42\n",
            "43\n",
            "44\n",
            "45\n",
            "46\n",
            "47\n",
            "48\n",
            "49\n",
            "50\n",
            "51\n",
            "52\n",
            "53\n",
            "54\n",
            "55\n",
            "56\n",
            "57\n",
            "58\n",
            "59\n",
            "60\n",
            "61\n",
            "62\n",
            "63\n",
            "64\n",
            "65\n",
            "66\n",
            "67\n",
            "68\n",
            "69\n",
            "70\n",
            "71\n",
            "72\n",
            "73\n",
            "74\n",
            "75\n",
            "76\n",
            "77\n",
            "78\n",
            "79\n",
            "80\n",
            "81\n",
            "82\n",
            "83\n",
            "84\n",
            "85\n",
            "86\n",
            "87\n",
            "88\n",
            "89\n",
            "90\n",
            "91\n",
            "92\n",
            "93\n",
            "94\n",
            "95\n",
            "96\n",
            "97\n",
            "98\n",
            "99\n"
          ]
        }
      ],
      "source": [
        "for i in range(10, 100):\n",
        "  print(i)"
      ]
    },
    {
      "cell_type": "markdown",
      "metadata": {
        "id": "USyjR56c7TH0"
      },
      "source": [
        "2. Print all numbers between 1 and 100 that are not divisible by 2 and 3."
      ]
    },
    {
      "cell_type": "code",
      "execution_count": 39,
      "metadata": {
        "colab": {
          "base_uri": "https://localhost:8080/"
        },
        "id": "vrW_YwnQ4r4G",
        "outputId": "6f5a8f97-fc58-4026-a69a-b1263259d969"
      },
      "outputs": [
        {
          "name": "stdout",
          "output_type": "stream",
          "text": [
            "1\n",
            "5\n",
            "7\n",
            "11\n",
            "13\n",
            "17\n",
            "19\n",
            "23\n",
            "25\n",
            "29\n",
            "31\n",
            "35\n",
            "37\n",
            "41\n",
            "43\n",
            "47\n",
            "49\n",
            "53\n",
            "55\n",
            "59\n",
            "61\n",
            "65\n",
            "67\n",
            "71\n",
            "73\n",
            "77\n",
            "79\n",
            "83\n",
            "85\n",
            "89\n",
            "91\n",
            "95\n",
            "97\n"
          ]
        }
      ],
      "source": [
        "for i in range(1, 101):\n",
        "  if i % 2 != 0 and i % 3 != 0:\n",
        "    print(i)"
      ]
    },
    {
      "cell_type": "markdown",
      "metadata": {
        "id": "wyGBZ0Ia7T8C"
      },
      "source": [
        "3. Calculate and print the sum of numbers from 1 to n."
      ]
    },
    {
      "cell_type": "code",
      "execution_count": 40,
      "metadata": {
        "colab": {
          "base_uri": "https://localhost:8080/"
        },
        "id": "ZutFxPFX4rvf",
        "outputId": "a2866993-9bfa-470c-d43d-073015e1e2ae"
      },
      "outputs": [
        {
          "name": "stdout",
          "output_type": "stream",
          "text": [
            "Sum is:  55\n"
          ]
        }
      ],
      "source": [
        "n = 10\n",
        "total = 0\n",
        "for i in range(1, n+1):\n",
        "  total += i\n",
        "print(\"Sum is: \", total)"
      ]
    },
    {
      "cell_type": "markdown",
      "metadata": {
        "id": "hBYfwbu37U_S"
      },
      "source": [
        "4. Calculate and print the product (factorial) of a given number."
      ]
    },
    {
      "cell_type": "code",
      "execution_count": 41,
      "metadata": {
        "colab": {
          "base_uri": "https://localhost:8080/"
        },
        "id": "HB6wMbav4rnZ",
        "outputId": "f7dab309-c488-465b-f6a6-03be460cddfc"
      },
      "outputs": [
        {
          "name": "stdout",
          "output_type": "stream",
          "text": [
            "Factorial is 6600\n"
          ]
        }
      ],
      "source": [
        "n = 5\n",
        "fact = 0\n",
        "for i in range(1, n+1):\n",
        "  total *= i\n",
        "print(\"Factorial is\", total)"
      ]
    },
    {
      "cell_type": "markdown",
      "metadata": {
        "id": "zhdRs3Rw7Vsv"
      },
      "source": [
        "5. Print the table of any number from 1 to 10."
      ]
    },
    {
      "cell_type": "code",
      "execution_count": 58,
      "metadata": {
        "colab": {
          "base_uri": "https://localhost:8080/"
        },
        "id": "NwL5oxLz4rb5",
        "outputId": "9fa198ae-94e5-4b91-982d-1fc7f2293a41"
      },
      "outputs": [
        {
          "name": "stdout",
          "output_type": "stream",
          "text": [
            "8 x 1 = 8\n",
            "8 x 2 = 16\n",
            "8 x 3 = 24\n",
            "8 x 4 = 32\n",
            "8 x 5 = 40\n",
            "8 x 6 = 48\n",
            "8 x 7 = 56\n",
            "8 x 8 = 64\n",
            "8 x 9 = 72\n",
            "8 x 10 = 80\n"
          ]
        }
      ],
      "source": [
        "num = 8\n",
        "for i in range(1, 11):\n",
        "  print(num, \"x\", i, \"=\", num*i)"
      ]
    },
    {
      "cell_type": "markdown",
      "metadata": {
        "id": "PZqJWcin7ZXs"
      },
      "source": [
        "6. Print all numbers from 1 to 100 that end with 5."
      ]
    },
    {
      "cell_type": "code",
      "execution_count": 43,
      "metadata": {
        "colab": {
          "base_uri": "https://localhost:8080/"
        },
        "id": "TBwZqGey4rSb",
        "outputId": "05085f00-b715-451f-cd76-d14fc0895658"
      },
      "outputs": [
        {
          "name": "stdout",
          "output_type": "stream",
          "text": [
            "5\n",
            "15\n",
            "25\n",
            "35\n",
            "45\n",
            "55\n",
            "65\n",
            "75\n",
            "85\n",
            "95\n"
          ]
        }
      ],
      "source": [
        "for i in range(1, 101):\n",
        "  if i % 10 == 5:\n",
        "    print(i)"
      ]
    },
    {
      "cell_type": "markdown",
      "metadata": {
        "id": "kqbc0HPm7aOn"
      },
      "source": [
        "7. Print numbers from 1 to n in steps of 3."
      ]
    },
    {
      "cell_type": "code",
      "execution_count": 44,
      "metadata": {
        "colab": {
          "base_uri": "https://localhost:8080/"
        },
        "id": "qhnxXFqe4rJp",
        "outputId": "dfbb5b0f-c34a-4eb1-80dc-acd9980f9af9"
      },
      "outputs": [
        {
          "name": "stdout",
          "output_type": "stream",
          "text": [
            "1\n",
            "4\n",
            "7\n",
            "10\n",
            "13\n",
            "16\n",
            "19\n",
            "22\n",
            "25\n",
            "28\n"
          ]
        }
      ],
      "source": [
        "n = 30\n",
        "for i in range(1, n+1, 3):\n",
        "  print(i)"
      ]
    },
    {
      "cell_type": "markdown",
      "metadata": {
        "id": "OROSuOvG7bIh"
      },
      "source": [
        "8. Print all numbers between 1 and 100 whose square is less than 500."
      ]
    },
    {
      "cell_type": "code",
      "execution_count": 45,
      "metadata": {
        "colab": {
          "base_uri": "https://localhost:8080/"
        },
        "id": "ksn1vHk64q_h",
        "outputId": "14007e32-eed4-4c43-ba9a-7b2fbdcbc081"
      },
      "outputs": [
        {
          "name": "stdout",
          "output_type": "stream",
          "text": [
            "1\n",
            "2\n",
            "3\n",
            "4\n",
            "5\n",
            "6\n",
            "7\n",
            "8\n",
            "9\n",
            "10\n",
            "11\n",
            "12\n",
            "13\n",
            "14\n",
            "15\n",
            "16\n",
            "17\n",
            "18\n",
            "19\n",
            "20\n",
            "21\n",
            "22\n"
          ]
        }
      ],
      "source": [
        "for i in range(1, 101):\n",
        "  if i * i < 500:\n",
        "    print(i)"
      ]
    },
    {
      "cell_type": "markdown",
      "metadata": {
        "id": "K3jPycx-7b1a"
      },
      "source": [
        "9. Print the sum of the squares of the first 10 natural numbers."
      ]
    },
    {
      "cell_type": "code",
      "execution_count": 46,
      "metadata": {
        "colab": {
          "base_uri": "https://localhost:8080/"
        },
        "id": "Tn92tzAW4q17",
        "outputId": "fbef5cec-3d8a-4c98-cb7e-7b50f3b42165"
      },
      "outputs": [
        {
          "name": "stdout",
          "output_type": "stream",
          "text": [
            "Sum of squares is:  385\n"
          ]
        }
      ],
      "source": [
        "total = 0\n",
        "for i in range(1, 11):\n",
        "  total += i ** 2\n",
        "print(\"Sum of squares is: \", total)"
      ]
    },
    {
      "cell_type": "markdown",
      "metadata": {
        "id": "PUVZH1ow7dFJ"
      },
      "source": [
        "10. Print numbers from 1 to n, skipping every alternate number."
      ]
    },
    {
      "cell_type": "code",
      "execution_count": 47,
      "metadata": {
        "colab": {
          "base_uri": "https://localhost:8080/"
        },
        "id": "evLT3HWy4qot",
        "outputId": "374499de-92a2-4a5d-ef22-c779469ad46b"
      },
      "outputs": [
        {
          "name": "stdout",
          "output_type": "stream",
          "text": [
            "1\n",
            "3\n",
            "5\n",
            "7\n",
            "9\n",
            "11\n",
            "13\n",
            "15\n",
            "17\n",
            "19\n"
          ]
        }
      ],
      "source": [
        "n = 20\n",
        "for i in range(1, n+1, 2):\n",
        "  print(i)"
      ]
    },
    {
      "cell_type": "markdown",
      "metadata": {
        "id": "1jCzWFKA4xKX"
      },
      "source": [
        "# **(iii) Advanced**"
      ]
    },
    {
      "cell_type": "markdown",
      "metadata": {
        "id": "whWsy6aI8zwh"
      },
      "source": [
        "1. Print all prime numbers between 1 and 50."
      ]
    },
    {
      "cell_type": "code",
      "execution_count": 48,
      "metadata": {
        "colab": {
          "base_uri": "https://localhost:8080/"
        },
        "id": "99QOufF549W_",
        "outputId": "e4b7b5a9-bdc1-44ca-e4f5-7f1097ba8c2b"
      },
      "outputs": [
        {
          "name": "stdout",
          "output_type": "stream",
          "text": [
            "5\n",
            "7\n",
            "9\n",
            "11\n",
            "11\n",
            "13\n",
            "13\n",
            "15\n",
            "17\n",
            "17\n",
            "17\n",
            "19\n",
            "19\n",
            "19\n",
            "21\n",
            "23\n",
            "23\n",
            "23\n",
            "25\n",
            "25\n",
            "25\n",
            "27\n",
            "29\n",
            "29\n",
            "29\n",
            "29\n",
            "31\n",
            "31\n",
            "31\n",
            "31\n",
            "33\n",
            "35\n",
            "35\n",
            "35\n",
            "37\n",
            "37\n",
            "37\n",
            "37\n",
            "37\n",
            "39\n",
            "41\n",
            "41\n",
            "41\n",
            "41\n",
            "41\n",
            "43\n",
            "43\n",
            "43\n",
            "43\n",
            "43\n",
            "45\n",
            "47\n",
            "47\n",
            "47\n",
            "47\n",
            "47\n",
            "49\n",
            "49\n",
            "49\n",
            "49\n",
            "49\n"
          ]
        }
      ],
      "source": [
        "for num in range(2, 51):\n",
        "  is_prime = True\n",
        "  for i in range(2, int(num ** 0.5) + 1):\n",
        "    if num % i == 0:\n",
        "      is_prime = False\n",
        "      break\n",
        "    if is_prime:\n",
        "      print(num)"
      ]
    },
    {
      "cell_type": "markdown",
      "metadata": {
        "id": "yKSfI5M381Bm"
      },
      "source": [
        "2. Print all Armstrong numbers between 1 and 500."
      ]
    },
    {
      "cell_type": "code",
      "execution_count": 49,
      "metadata": {
        "colab": {
          "base_uri": "https://localhost:8080/"
        },
        "id": "FXB6YZsD5BxR",
        "outputId": "91772983-4e58-4a26-cb43-d42bd67066d2"
      },
      "outputs": [
        {
          "name": "stdout",
          "output_type": "stream",
          "text": [
            "1\n",
            "2\n",
            "3\n",
            "4\n",
            "5\n",
            "6\n",
            "7\n",
            "8\n",
            "9\n",
            "153\n",
            "370\n",
            "371\n",
            "407\n"
          ]
        }
      ],
      "source": [
        "for num in range(1, 501):\n",
        "  digits = [int(d) for d in str(num)]\n",
        "  power = len(digits)\n",
        "  armstrong_sum = sum([d ** power for d in digits])\n",
        "  if armstrong_sum == num:\n",
        "    print(num)"
      ]
    },
    {
      "cell_type": "markdown",
      "metadata": {
        "id": "ETi-lV-Q82vR"
      },
      "source": [
        "3. Print all palindrome numbers between 10 and 200.\n"
      ]
    },
    {
      "cell_type": "code",
      "execution_count": 50,
      "metadata": {
        "colab": {
          "base_uri": "https://localhost:8080/"
        },
        "id": "AykSR2No5Bmw",
        "outputId": "45dce220-701d-45e8-e731-dfb2a030b212"
      },
      "outputs": [
        {
          "name": "stdout",
          "output_type": "stream",
          "text": [
            "11\n",
            "22\n",
            "33\n",
            "44\n",
            "55\n",
            "66\n",
            "77\n",
            "88\n",
            "99\n",
            "101\n",
            "111\n",
            "121\n",
            "131\n",
            "141\n",
            "151\n",
            "161\n",
            "171\n",
            "181\n",
            "191\n"
          ]
        }
      ],
      "source": [
        "for num in range(10, 201):\n",
        "  if str(num) == str(num)[::-1]:\n",
        "    print(num)"
      ]
    },
    {
      "cell_type": "markdown",
      "metadata": {
        "id": "gIRmpy5X83hx"
      },
      "source": [
        "4. Print the Fibonacci series up to n terms.\n"
      ]
    },
    {
      "cell_type": "code",
      "execution_count": 51,
      "metadata": {
        "colab": {
          "base_uri": "https://localhost:8080/"
        },
        "id": "acK5Rzti5Bc6",
        "outputId": "1c6e4326-9d5f-4d2d-9088-2af1624d9cb8"
      },
      "outputs": [
        {
          "name": "stdout",
          "output_type": "stream",
          "text": [
            "0\n",
            "1\n",
            "1\n",
            "2\n",
            "3\n",
            "5\n",
            "8\n",
            "13\n",
            "21\n",
            "34\n"
          ]
        }
      ],
      "source": [
        "n = 10\n",
        "a, b = 0, 1\n",
        "for i in range(n):\n",
        "  print(a)\n",
        "  a, b = b, a + b"
      ]
    },
    {
      "cell_type": "markdown",
      "metadata": {
        "id": "AozD8vyM84XA"
      },
      "source": [
        "5. Print numbers from 1 to 100, but for multiples of 3 print \"Fizz\", for multiples of 5 print \"Buzz\", and for multiples of both print \"FizzBuzz\".\n"
      ]
    },
    {
      "cell_type": "code",
      "execution_count": 52,
      "metadata": {
        "colab": {
          "base_uri": "https://localhost:8080/"
        },
        "id": "O5d3xIgg5BRq",
        "outputId": "30a5f7bf-8c78-4e79-c120-2eb48bac4c4f"
      },
      "outputs": [
        {
          "name": "stdout",
          "output_type": "stream",
          "text": [
            "1\n",
            "2\n",
            "Fizz\n",
            "4\n",
            "Buzz\n",
            "Fizz\n",
            "7\n",
            "8\n",
            "Fizz\n",
            "Buzz\n",
            "11\n",
            "Fizz\n",
            "13\n",
            "14\n",
            "Fizzbuzz\n",
            "16\n",
            "17\n",
            "Fizz\n",
            "19\n",
            "Buzz\n",
            "Fizz\n",
            "22\n",
            "23\n",
            "Fizz\n",
            "Buzz\n",
            "26\n",
            "Fizz\n",
            "28\n",
            "29\n",
            "Fizzbuzz\n",
            "31\n",
            "32\n",
            "Fizz\n",
            "34\n",
            "Buzz\n",
            "Fizz\n",
            "37\n",
            "38\n",
            "Fizz\n",
            "Buzz\n",
            "41\n",
            "Fizz\n",
            "43\n",
            "44\n",
            "Fizzbuzz\n",
            "46\n",
            "47\n",
            "Fizz\n",
            "49\n",
            "Buzz\n",
            "Fizz\n",
            "52\n",
            "53\n",
            "Fizz\n",
            "Buzz\n",
            "56\n",
            "Fizz\n",
            "58\n",
            "59\n",
            "Fizzbuzz\n",
            "61\n",
            "62\n",
            "Fizz\n",
            "64\n",
            "Buzz\n",
            "Fizz\n",
            "67\n",
            "68\n",
            "Fizz\n",
            "Buzz\n",
            "71\n",
            "Fizz\n",
            "73\n",
            "74\n",
            "Fizzbuzz\n",
            "76\n",
            "77\n",
            "Fizz\n",
            "79\n",
            "Buzz\n",
            "Fizz\n",
            "82\n",
            "83\n",
            "Fizz\n",
            "Buzz\n",
            "86\n",
            "Fizz\n",
            "88\n",
            "89\n",
            "Fizzbuzz\n",
            "91\n",
            "92\n",
            "Fizz\n",
            "94\n",
            "Buzz\n",
            "Fizz\n",
            "97\n",
            "98\n",
            "Fizz\n",
            "Buzz\n"
          ]
        }
      ],
      "source": [
        "for i in range(1, 101):\n",
        "  if i % 3 == 0 and i % 5 == 0:\n",
        "    print(\"Fizzbuzz\")\n",
        "  elif i % 3 == 0:\n",
        "    print(\"Fizz\")\n",
        "  elif i % 5 == 0:\n",
        "    print(\"Buzz\")\n",
        "  else:\n",
        "    print(i)"
      ]
    },
    {
      "cell_type": "markdown",
      "metadata": {
        "id": "aTYMl4hW88my"
      },
      "source": [
        "6. Count and print the number of digits in a given number.\n"
      ]
    },
    {
      "cell_type": "code",
      "execution_count": 53,
      "metadata": {
        "colab": {
          "base_uri": "https://localhost:8080/"
        },
        "id": "2mCoVmDC5BGO",
        "outputId": "ab230782-ae91-440b-d610-65391a972a39"
      },
      "outputs": [
        {
          "name": "stdout",
          "output_type": "stream",
          "text": [
            "Number of digits is:  5\n"
          ]
        }
      ],
      "source": [
        "num = 12345\n",
        "count = len(str(num))\n",
        "print(\"Number of digits is: \", count)"
      ]
    },
    {
      "cell_type": "markdown",
      "metadata": {
        "id": "XgHtC9uO8-sK"
      },
      "source": [
        "7. Find and print the reverse of a given number.\n",
        "\n"
      ]
    },
    {
      "cell_type": "code",
      "execution_count": 54,
      "metadata": {
        "colab": {
          "base_uri": "https://localhost:8080/"
        },
        "id": "0PatGW0b5A5H",
        "outputId": "05f4a40f-6aa7-4790-ed97-a8e4c6856240"
      },
      "outputs": [
        {
          "name": "stdout",
          "output_type": "stream",
          "text": [
            "Reverse number is:  4\n"
          ]
        }
      ],
      "source": [
        "num = 1234\n",
        "reverse = len(str(num)[::-1])\n",
        "print(\"Reverse number is: \", reverse)"
      ]
    },
    {
      "cell_type": "markdown",
      "metadata": {
        "id": "K25V8GRv9EFc"
      },
      "source": [
        "8. Check and print if a given number is a perfect number.\n"
      ]
    },
    {
      "cell_type": "code",
      "execution_count": 55,
      "metadata": {
        "colab": {
          "base_uri": "https://localhost:8080/"
        },
        "id": "l5HsxSE15AsN",
        "outputId": "cb2644f1-c0d6-4de4-ab87-f851f78dfff2"
      },
      "outputs": [
        {
          "name": "stdout",
          "output_type": "stream",
          "text": [
            "Perfect number\n"
          ]
        }
      ],
      "source": [
        "num = 28\n",
        "sum_factors = 0\n",
        "for i in range(1, num):\n",
        "  if num % i == 0:\n",
        "    sum_factors += i\n",
        "if sum_factors == num:\n",
        "  print(\"Perfect number\")\n",
        "else:\n",
        "  print(\"Not a perfect number\")"
      ]
    },
    {
      "cell_type": "markdown",
      "metadata": {
        "id": "2uj-9dJs9FOt"
      },
      "source": [
        "9. Print the sum of digits of a given number.\n"
      ]
    },
    {
      "cell_type": "code",
      "execution_count": 56,
      "metadata": {
        "colab": {
          "base_uri": "https://localhost:8080/"
        },
        "id": "qQk8orPw5AfB",
        "outputId": "4ca9d320-dc93-4d45-b396-ec69adf18f3c"
      },
      "outputs": [
        {
          "name": "stdout",
          "output_type": "stream",
          "text": [
            "Sum of digits are:  10\n"
          ]
        }
      ],
      "source": [
        "num = 1234\n",
        "digit_sum = sum(int(d) for d in str(num))\n",
        "print(\"Sum of digits are: \", digit_sum)"
      ]
    },
    {
      "cell_type": "markdown",
      "metadata": {
        "id": "DcdWtGSu9GAu"
      },
      "source": [
        "10. Print all numbers between 1 and 100 that have exactly 4 factors."
      ]
    },
    {
      "cell_type": "code",
      "execution_count": 57,
      "metadata": {
        "colab": {
          "base_uri": "https://localhost:8080/"
        },
        "id": "vaQHuvn85AQ0",
        "outputId": "a08eaffb-c6e0-452e-cb3c-3df88e21107b"
      },
      "outputs": [
        {
          "name": "stdout",
          "output_type": "stream",
          "text": [
            "6\n",
            "8\n",
            "10\n",
            "16\n",
            "28\n",
            "32\n",
            "45\n",
            "50\n",
            "63\n",
            "64\n",
            "66\n",
            "78\n",
            "88\n"
          ]
        }
      ],
      "source": [
        "for num in range(1, 101):\n",
        "  count = 0\n",
        "  for i in range(1, n+1):\n",
        "    if num % i == 0:\n",
        "      count += 1\n",
        "  if count == 4:\n",
        "    print(num)"
      ]
    }
  ],
  "metadata": {
    "colab": {
      "provenance": []
    },
    "kernelspec": {
      "display_name": "Python 3",
      "name": "python3"
    },
    "language_info": {
      "name": "python"
    }
  },
  "nbformat": 4,
  "nbformat_minor": 0
}
